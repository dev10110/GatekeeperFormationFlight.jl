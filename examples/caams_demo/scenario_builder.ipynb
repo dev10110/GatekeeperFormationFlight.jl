{
 "cells": [
  {
   "cell_type": "markdown",
   "id": "21522f32",
   "metadata": {},
   "source": [
    "# Scenario Builder"
   ]
  },
  {
   "cell_type": "code",
   "execution_count": 1,
   "id": "bbe093e7",
   "metadata": {},
   "outputs": [
    {
     "name": "stderr",
     "output_type": "stream",
     "text": [
      "\u001b[32m\u001b[1m  Activating\u001b[22m\u001b[39m project at `~/Documents/GatekeeperFormationFlight.jl/examples`\n"
     ]
    }
   ],
   "source": [
    "using Pkg;\n",
    "Pkg.activate(\"..\")"
   ]
  },
  {
   "cell_type": "code",
   "execution_count": null,
   "id": "91ccfd39",
   "metadata": {},
   "outputs": [],
   "source": [
    "using GatekeeperFormationFlight"
   ]
  },
  {
   "cell_type": "code",
   "execution_count": 33,
   "id": "65aad4f4",
   "metadata": {},
   "outputs": [
    {
     "name": "stderr",
     "output_type": "stream",
     "text": [
      "WARNING: replacing module FileUtil.\n"
     ]
    },
    {
     "data": {
      "text/plain": [
       "Main.FileUtil"
      ]
     },
     "metadata": {},
     "output_type": "display_data"
    }
   ],
   "source": [
    "include(\"./file_util.jl\")"
   ]
  },
  {
   "cell_type": "markdown",
   "id": "abb7363d",
   "metadata": {},
   "source": [
    "## Create the Scenario Object"
   ]
  },
  {
   "cell_type": "markdown",
   "id": "e4803a5f",
   "metadata": {},
   "source": [
    "## Create the Obstacles"
   ]
  },
  {
   "cell_type": "code",
   "execution_count": 34,
   "id": "12e24451",
   "metadata": {},
   "outputs": [
    {
     "data": {
      "text/plain": [
       "GatekeeperFormationFlight.Obstacles.AbstractStaticObstacle[]"
      ]
     },
     "metadata": {},
     "output_type": "display_data"
    }
   ],
   "source": [
    "# Empty Vector of Obstacles\n",
    "obstacles = Vector{GatekeeperFormationFlight.Obstacles.AbstractStaticObstacle}()"
   ]
  },
  {
   "cell_type": "code",
   "execution_count": 35,
   "id": "b416d88d",
   "metadata": {},
   "outputs": [
    {
     "data": {
      "text/plain": [
       "1-element Vector{GatekeeperFormationFlight.Obstacles.AbstractStaticObstacle}:\n",
       " Cylinder{Float64}([1.5, 1.5, 0.0], 0.5)"
      ]
     },
     "metadata": {},
     "output_type": "display_data"
    }
   ],
   "source": [
    "obs_1 = Cylinder(1.5, 1.5, 0.5)\n",
    "push!(obstacles, obs_1)"
   ]
  },
  {
   "cell_type": "code",
   "execution_count": null,
   "id": "456d3a47",
   "metadata": {},
   "outputs": [
    {
     "data": {
      "text/plain": [
       "1-element Vector{Dict{String, Any}}:\n",
       " Dict(\"radius\" => 0.5, \"position\" => [1.5, 1.5, 0.0], \"type\" => \"Cylinder\")"
      ]
     },
     "metadata": {},
     "output_type": "display_data"
    }
   ],
   "source": [
    "obstacles = [FileUtil.obstacle_to_dict(obs) for obs in obstacles]"
   ]
  },
  {
   "cell_type": "markdown",
   "id": "297ea2bf",
   "metadata": {},
   "source": [
    "## Create the Gatekeeper Coefficients Object"
   ]
  },
  {
   "cell_type": "code",
   "execution_count": null,
   "id": "0417c4e1",
   "metadata": {},
   "outputs": [
    {
     "data": {
      "text/plain": [
       "Dict{Symbol, Float64} with 6 entries:\n",
       "  :reconnection_step_size    => 0.125\n",
       "  :max_Ts_horizon            => 10.0\n",
       "  :integration_step_size     => 0.01\n",
       "  :collision_check_step_size => 0.05\n",
       "  :switch_step_size          => 0.5\n",
       "  :integration_max_step_size => 0.05"
      ]
     },
     "metadata": {},
     "output_type": "display_data"
    }
   ],
   "source": [
    "# Create desired object using kwarg constructor\n",
    "coeffs = GatekeeperCoefficients(\n",
    "    switch_step_size = 0.5,\n",
    "    reconnection_step_size = 0.125,\n",
    "    max_Ts_horizon = 10.0,\n",
    "    integration_max_step_size = 0.05,\n",
    "    integration_step_size = 0.01,\n",
    "    collision_check_step_size = 0.05\n",
    ")\n",
    "\n",
    "# Convert to dictionary with symbol keys\n",
    "coeffs = Dict(fieldnames(GatekeeperCoefficients) .=> getfield.(Ref(coeffs), fieldnames(GatekeeperCoefficients)))"
   ]
  },
  {
   "cell_type": "code",
   "execution_count": null,
   "id": "65dd32ff",
   "metadata": {},
   "outputs": [],
   "source": []
  },
  {
   "cell_type": "markdown",
   "id": "45c0a885",
   "metadata": {},
   "source": [
    "## Write YAML"
   ]
  },
  {
   "cell_type": "code",
   "execution_count": 6,
   "id": "53923f15",
   "metadata": {},
   "outputs": [],
   "source": [
    "using YAML"
   ]
  },
  {
   "cell_type": "code",
   "execution_count": 37,
   "id": "0150dd70",
   "metadata": {},
   "outputs": [],
   "source": [
    "scenario_name = \"basic_test\"\n",
    "\n",
    "output_object = Dict(\n",
    "    \"gatekeeper_coefficients\" => coeffs,\n",
    "    \"obstacles\" => obstacles,\n",
    ")\n",
    "\n",
    "YAML.write_file(\"scenarios/$(scenario_name).yaml\", output_object)\n"
   ]
  },
  {
   "cell_type": "markdown",
   "id": "166770bf",
   "metadata": {},
   "source": [
    "## Load YAML"
   ]
  },
  {
   "cell_type": "code",
   "execution_count": 21,
   "id": "6d2f62d4",
   "metadata": {},
   "outputs": [
    {
     "data": {
      "text/plain": [
       "Dict{Symbol, Any} with 1 entry:\n",
       "  :gatekeeper_coefficients => Dict{Symbol, Any}(:reconnection_step_size=>0.125,…"
      ]
     },
     "metadata": {},
     "output_type": "display_data"
    }
   ],
   "source": [
    "obj = YAML.load_file(\"scenarios/basic_test.yaml\"; dicttype=Dict{Symbol, Any})"
   ]
  },
  {
   "cell_type": "code",
   "execution_count": 24,
   "id": "ebd733f9",
   "metadata": {},
   "outputs": [
    {
     "data": {
      "text/plain": [
       "GatekeeperCoefficients{Float64}(10.0, 0.125, 0.05, 0.05, 0.01, 0.5)"
      ]
     },
     "metadata": {},
     "output_type": "display_data"
    }
   ],
   "source": [
    "coeffs_in = obj[:gatekeeper_coefficients]\n",
    "gk_coeffs = GatekeeperCoefficients(; coeffs_in...)\n",
    "obj[:gatekeeper_coefficients] = gk_coeffs"
   ]
  },
  {
   "cell_type": "code",
   "execution_count": null,
   "id": "926627ec",
   "metadata": {},
   "outputs": [
    {
     "name": "stdout",
     "output_type": "stream",
     "text": [
      "obj = Dict{Symbol, Any}(:gatekeeper_coefficients => GatekeeperCoefficients{Float64}(10.0, 0.125, 0.05, 0.05, 0.01, 0.5))\n"
     ]
    },
    {
     "data": {
      "text/plain": [
       "Dict{Symbol, Any} with 1 entry:\n",
       "  :gatekeeper_coefficients => GatekeeperCoefficients{Float64}(10.0, 0.125, 0.05…"
      ]
     },
     "metadata": {},
     "output_type": "display_data"
    }
   ],
   "source": []
  },
  {
   "cell_type": "code",
   "execution_count": null,
   "id": "ec6d8825",
   "metadata": {},
   "outputs": [],
   "source": []
  }
 ],
 "metadata": {
  "kernelspec": {
   "display_name": "Julia 1.11.6",
   "language": "julia",
   "name": "julia-1.11"
  },
  "language_info": {
   "file_extension": ".jl",
   "mimetype": "application/julia",
   "name": "julia",
   "version": "1.11.6"
  }
 },
 "nbformat": 4,
 "nbformat_minor": 5
}
